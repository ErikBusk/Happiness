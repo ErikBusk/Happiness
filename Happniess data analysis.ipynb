{
 "cells": [
  {
   "cell_type": "markdown",
   "id": "cb0899f4",
   "metadata": {},
   "source": [
    "# Import packages"
   ]
  },
  {
   "cell_type": "code",
   "execution_count": 3,
   "id": "149e04ff",
   "metadata": {},
   "outputs": [],
   "source": [
    "import numpy as np\n",
    "import pandas as pd\n",
    "import seaborn as sns\n",
    "import matplotlib.pyplot as plt\n",
    "%matplotlib inline"
   ]
  },
  {
   "cell_type": "markdown",
   "id": "736dc3a9",
   "metadata": {},
   "source": [
    "# Set styles and sizes"
   ]
  },
  {
   "cell_type": "code",
   "execution_count": 6,
   "id": "ccc8a74e",
   "metadata": {},
   "outputs": [],
   "source": [
    "sns.set_style('darkgrid')\n",
    "plt.rcParams['font.size'] = 15\n",
    "plt.rcParams['figure.figsize'] = (10, 7)\n",
    "plt.rcParams['figure.facecolor'] = '#FFE5B4'"
   ]
  },
  {
   "cell_type": "markdown",
   "id": "2e748342",
   "metadata": {},
   "source": [
    "# Import data set"
   ]
  },
  {
   "cell_type": "code",
   "execution_count": null,
   "id": "dcdc27ef",
   "metadata": {},
   "outputs": [],
   "source": []
  },
  {
   "cell_type": "code",
   "execution_count": null,
   "id": "33d32f9f",
   "metadata": {},
   "outputs": [],
   "source": []
  }
 ],
 "metadata": {
  "kernelspec": {
   "display_name": "Python 3 (ipykernel)",
   "language": "python",
   "name": "python3"
  },
  "language_info": {
   "codemirror_mode": {
    "name": "ipython",
    "version": 3
   },
   "file_extension": ".py",
   "mimetype": "text/x-python",
   "name": "python",
   "nbconvert_exporter": "python",
   "pygments_lexer": "ipython3",
   "version": "3.11.5"
  }
 },
 "nbformat": 4,
 "nbformat_minor": 5
}
